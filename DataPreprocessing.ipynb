{
 "cells": [
  {
   "cell_type": "markdown",
   "metadata": {},
   "source": [
    "# Introduction\n",
    "\n",
    "Source Dataset: https://www.kaggle.com/dipam7/student-grade-prediction\n",
    "\n",
    "\n",
    "Data Preprocessing Steps:\n",
    "* Data Visualization\n",
    "* Data Transformation\n",
    "* Data Normalization\n",
    "* Feature Selection\n",
    "    "
   ]
  },
  {
   "cell_type": "markdown",
   "metadata": {},
   "source": [
    "### Imports"
   ]
  },
  {
   "cell_type": "code",
   "execution_count": null,
   "metadata": {},
   "outputs": [],
   "source": [
    "import numpy as np\n",
    "import pandas as pd\n",
    "import matplotlib.pyplot as plt\n",
    "import seaborn as sns\n",
    "from sklearn.preprocessing import LabelEncoder\n",
    "from sklearn.preprocessing import MinMaxScaler\n",
    "\n",
    "import tensorflow as tf\n",
    "from tensorflow import keras\n",
    "from tensorflow.keras import layers\n",
    "\n",
    "import tensorflow_docs as tfdocs\n",
    "import tensorflow_docs.modeling\n",
    "import tensorflow_docs.plots"
   ]
  },
  {
   "cell_type": "markdown",
   "metadata": {},
   "source": [
    "### Load Dataset"
   ]
  },
  {
   "cell_type": "code",
   "execution_count": null,
   "metadata": {},
   "outputs": [],
   "source": [
    "raw_df = pd.read_csv(\"./student-mat.csv\")\n",
    "raw_df.head()"
   ]
  },
  {
   "cell_type": "markdown",
   "metadata": {},
   "source": [
    "## Dataset Metadata\n",
    "### Features  \n",
    "#### Nominal Category\n",
    "*   school - student's school (binary: 'GP' - Gabriel Pereira or 'MS' - Mousinho da Silveira)\n",
    "* \tsex - student's sex (binary: 'F' - female or 'M' - male)\n",
    "*\taddress - student's home address type (binary: 'U' - urban or 'R' - rural)\n",
    "*\tfamsize - family size (binary: 'LE3' - less or equal to 3 or 'GT3' - greater than 3)\n",
    "*\tPstatus - parent's cohabitation status (binary: 'T' - living together or 'A' - apart)\n",
    "*\tMjob - mother's job (nominal: 'teacher', 'health' care related, civil 'services' (e.g. administrative or police), 'at_home' or 'other')\n",
    "*\tFjob - father's job (nominal: 'teacher', 'health' care related, civil 'services' (e.g. administrative or police), 'at_home' or 'other')\n",
    "*\treason - reason to choose this school (nominal: close to 'home', school 'reputation', 'course' preference or 'other')\n",
    "*\tguardian - student's guardian (nominal: 'mother', 'father' or 'other')\n",
    "\n",
    "#### Ordinal Category ('yes' => 1 has higher value than 'no' => 0)\n",
    "*\tschoolsup - extra educational support (binary: yes or no)\n",
    "*\tfamsup - family educational support (binary: yes or no)\n",
    "*\tpaid - extra paid classes within the course subject (Math or Portuguese) (binary: yes or no)\n",
    "*\tactivities - extra-curricular activities (binary: yes or no)\n",
    "*\tnursery - attended nursery school (binary: yes or no)\n",
    "*\thigher - wants to take higher education (binary: yes or no)\n",
    "*\tinternet - Internet access at home (binary: yes or no)\n",
    "*\tromantic - with a romantic relationship (binary: yes or no)\n",
    "\n",
    "#### Prepared Ordinal Category\n",
    "*\tMedu - mother's education (numeric: 0 - none, 1 - primary education (4th grade), 2 - 5th to 9th grade, 3 - secondary education or 4 - higher education)\n",
    "*\tFedu - father's education (numeric: 0 - none, 1 - primary education (4th grade), 2 - 5th to 9th grade, 3 - secondary education or 4 - higher education)\n",
    "\n",
    "#### Numeric\n",
    "*\tage - student's age (numeric: from 15 to 22)\n",
    "*\ttraveltime - home to school travel time (numeric: 1 - 1 hour)\n",
    "*\tstudytime - weekly study time (numeric: 1 - 10 hours)\n",
    "*\tfailures - number of past class failures (numeric: n if 1<=n<3, else 4)\n",
    "*\tfamrel - quality of family relationships (numeric: from 1 - very bad to 5 - excellent)\n",
    "*\tfreetime - free time after school (numeric: from 1 - very low to 5 - very high)\n",
    "*\tgoout - going out with friends (numeric: from 1 - very low to 5 - very high)\n",
    "*\tDalc - workday alcohol consumption (numeric: from 1 - very low to 5 - very high)\n",
    "*\tWalc - weekend alcohol consumption (numeric: from 1 - very low to 5 - very high)\n",
    "*\thealth - current health status (numeric: from 1 - very bad to 5 - very good)\n",
    "*\tabsences - number of school absences (numeric: from 0 to 93)\n",
    "*   G1 - first period grade (numeric: from 0 to 20)\n",
    "*   G2 - second period grade (numeric: from 0 to 20)\n",
    "*   G3 - final grade (numeric: from 0 to 20)\n",
    "\n",
    "### Label\n",
    "\n",
    "*   avgGrade - Derived from (G1 + G2 + G3) / 3\n",
    "\n"
   ]
  },
  {
   "cell_type": "code",
   "execution_count": null,
   "metadata": {},
   "outputs": [],
   "source": [
    "raw_df.dtypes"
   ]
  },
  {
   "cell_type": "code",
   "execution_count": null,
   "metadata": {},
   "outputs": [],
   "source": [
    "df = raw_df.copy()\n",
    "df['avgGrade'] = df.apply(lambda row: (row.G1 + row.G2 + row.G3)/3,axis=1)\n",
    "df = df.drop(labels=['G1','G2','G3'],axis=1)\n",
    "df.head()"
   ]
  },
  {
   "cell_type": "code",
   "execution_count": null,
   "metadata": {},
   "outputs": [],
   "source": [
    "plt.figure(figsize=(5,5))\n",
    "corr = df.corr()\n",
    "ax = sns.heatmap(corr, annot=True,annot_kws={\"fontsize\" : 1})\n",
    "plt.show()"
   ]
  },
  {
   "cell_type": "code",
   "execution_count": null,
   "metadata": {},
   "outputs": [],
   "source": [
    "le = LabelEncoder()\n",
    "ordinal = df.copy()\n",
    "binary_feature = ['schoolsup','famsup','paid','activities','nursery','higher','internet','romantic'] #Ordinal Binary\n",
    "ordinal[binary_feature] = ordinal[binary_feature].apply(lambda col: le.fit_transform(col))"
   ]
  },
  {
   "cell_type": "code",
   "execution_count": null,
   "metadata": {},
   "outputs": [],
   "source": []
  },
  {
   "cell_type": "code",
   "execution_count": null,
   "metadata": {},
   "outputs": [],
   "source": [
    "plt.figure(figsize=(5,5))\n",
    "corr = ordinal.corr()\n",
    "ax = sns.heatmap(corr, annot=False,annot_kws={\"fontsize\" : 9}, fmt=\".1f\")\n",
    "plt.show()"
   ]
  },
  {
   "cell_type": "code",
   "execution_count": null,
   "metadata": {},
   "outputs": [],
   "source": [
    "normal = ordinal.copy()\n",
    "notObject = normal.columns[normal.dtypes!=object].tolist()\n",
    "notObject.remove('avgGrade')\n",
    "normal[notObject]=(normal[notObject]-normal[notObject].min())/(normal[notObject].max()-normal[notObject].min())"
   ]
  },
  {
   "cell_type": "code",
   "execution_count": null,
   "metadata": {},
   "outputs": [],
   "source": [
    "normal.head()"
   ]
  },
  {
   "cell_type": "code",
   "execution_count": null,
   "metadata": {},
   "outputs": [],
   "source": [
    "corr_target = abs(corr[\"avgGrade\"])\n",
    "bad_feature = corr_target[corr_target < 0.1]\n",
    "print(bad_feature)\n",
    "# print(babad_featureeature)"
   ]
  },
  {
   "cell_type": "code",
   "execution_count": null,
   "metadata": {},
   "outputs": [],
   "source": [
    "# dropped = normal.drop(labels=['famsup','paid','activities','nursery'\n",
    "#                              ,'famrel','freetime','Dalc','Walc','health','absences'],axis=1)\n",
    "dropped = normal.copy()\n",
    "dropped.head()"
   ]
  },
  {
   "cell_type": "code",
   "execution_count": null,
   "metadata": {},
   "outputs": [],
   "source": [
    "dropped.dtypes"
   ]
  },
  {
   "cell_type": "code",
   "execution_count": null,
   "metadata": {},
   "outputs": [],
   "source": [
    "one_hot_categorical = dropped.columns[dropped.dtypes==object].tolist()\n",
    "dropped[one_hot_categorical] = dropped[one_hot_categorical].astype('category')\n",
    "print(one_hot_categorical)"
   ]
  },
  {
   "cell_type": "code",
   "execution_count": null,
   "metadata": {},
   "outputs": [],
   "source": [
    "oh_concat = dropped\n",
    "oh_concat = pd.concat([oh_concat,pd.get_dummies(dropped['sex'],prefix='sex')],axis=1)\n",
    "oh_concat = pd.concat([oh_concat,pd.get_dummies(dropped['school'],prefix='school')],axis=1)\n",
    "oh_concat = pd.concat([oh_concat,pd.get_dummies(dropped['address'],prefix='address')],axis=1)\n",
    "oh_concat = pd.concat([oh_concat,pd.get_dummies(dropped['famsize'],prefix='famsize')],axis=1)\n",
    "oh_concat = pd.concat([oh_concat,pd.get_dummies(dropped['Pstatus'],prefix='Pstatus')],axis=1)\n",
    "oh_concat = pd.concat([oh_concat,pd.get_dummies(dropped['Mjob'],prefix='Mjob')],axis=1)\n",
    "oh_concat = pd.concat([oh_concat,pd.get_dummies(dropped['Fjob'],prefix='Fjob')],axis=1)\n",
    "oh_concat = pd.concat([oh_concat,pd.get_dummies(dropped['reason'],prefix='reason')],axis=1)\n",
    "oh_concat = pd.concat([oh_concat,pd.get_dummies(dropped['guardian'],prefix='guardian')],axis=1)\n",
    "oh_concat = oh_concat.drop(labels=one_hot_categorical,axis=1)"
   ]
  },
  {
   "cell_type": "code",
   "execution_count": null,
   "metadata": {},
   "outputs": [],
   "source": [
    "corr_target = abs(oh_concat.corr()[\"avgGrade\"])\n",
    "bad_feature = corr_target[corr_target < 0.1]\n",
    "print(bad_feature)\n",
    "# print(babad_featureeature)"
   ]
  },
  {
   "cell_type": "code",
   "execution_count": 16,
   "metadata": {},
   "outputs": [
    {
     "data": {
      "image/png": "[encoded data removed]",
      "text/plain": [
       "<Figure size 360x360 with 2 Axes>"
      ]
     },
     "metadata": {
      "needs_background": "light"
     },
     "output_type": "display_data"
    }
   ],
   "source": [
    "plt.figure(figsize=(5,5))\n",
    "corr = oh_concat.corr()\n",
    "ax = sns.heatmap(corr, annot=False,annot_kws={\"fontsize\" : 2}, fmt=\".1f\")\n",
    "plt.show()\n",
    "oh_concat.to_csv('all_prepared.csv')"
   ]
  },
  {
   "cell_type": "code",
   "execution_count": 17,
   "metadata": {},
   "outputs": [],
   "source": [
    "oh_minimized = oh_concat.copy()\n",
    "oh_minimized = oh_concat.drop(labels=['school_GP','school_MS','Pstatus_A','Pstatus_T','Fjob_at_home','Fjob_health'\n",
    "                                ,'Fjob_services','reason_home','reason_other','guardian_father','guardian_mother'],axis=1)"
   ]
  },
  {
   "cell_type": "code",
   "execution_count": 18,
   "metadata": {},
   "outputs": [],
   "source": [
    "oh_dropped = oh_concat.copy()\n",
    "oh_dropped = oh_concat.drop(labels=['school_GP','school_MS','famsize_GT3','famsize_LE3','Pstatus_A','Pstatus_T','Mjob_services'\n",
    "                          ,'Mjob_teacher','Fjob_at_home','Fjob_health','Fjob_other','Fjob_services'\n",
    "                          ,'reason_course','reason_home','reason_other','reason_reputation','guardian_father'\n",
    "                          ,'guardian_mother','guardian_other'],axis=1)"
   ]
  },
  {
   "cell_type": "code",
   "execution_count": 28,
   "metadata": {},
   "outputs": [
    {
     "data": {
      "text/html": [
       "<div>\n",
       "<style scoped>\n",
       "    .dataframe tbody tr th:only-of-type {\n",
       "        vertical-align: middle;\n",
       "    }\n",
       "\n",
       "    .dataframe tbody tr th {\n",
       "        vertical-align: top;\n",
       "    }\n",
       "\n",
       "    .dataframe thead th {\n",
       "        text-align: right;\n",
       "    }\n",
       "</style>\n",
       "<table border=\"1\" class=\"dataframe\">\n",
       "  <thead>\n",
       "    <tr style=\"text-align: right;\">\n",
       "      <th></th>\n",
       "      <th>age</th>\n",
       "      <th>Medu</th>\n",
       "      <th>Fedu</th>\n",
       "      <th>traveltime</th>\n",
       "      <th>studytime</th>\n",
       "      <th>failures</th>\n",
       "      <th>schoolsup</th>\n",
       "      <th>famsup</th>\n",
       "      <th>paid</th>\n",
       "      <th>activities</th>\n",
       "      <th>...</th>\n",
       "      <th>Fjob_other</th>\n",
       "      <th>Fjob_services</th>\n",
       "      <th>Fjob_teacher</th>\n",
       "      <th>reason_course</th>\n",
       "      <th>reason_home</th>\n",
       "      <th>reason_other</th>\n",
       "      <th>reason_reputation</th>\n",
       "      <th>guardian_father</th>\n",
       "      <th>guardian_mother</th>\n",
       "      <th>guardian_other</th>\n",
       "    </tr>\n",
       "  </thead>\n",
       "  <tbody>\n",
       "    <tr>\n",
       "      <th>0</th>\n",
       "      <td>0.428571</td>\n",
       "      <td>1.00</td>\n",
       "      <td>1.00</td>\n",
       "      <td>0.333333</td>\n",
       "      <td>0.333333</td>\n",
       "      <td>0.0</td>\n",
       "      <td>1.0</td>\n",
       "      <td>0.0</td>\n",
       "      <td>0.0</td>\n",
       "      <td>0.0</td>\n",
       "      <td>...</td>\n",
       "      <td>0</td>\n",
       "      <td>0</td>\n",
       "      <td>1</td>\n",
       "      <td>1</td>\n",
       "      <td>0</td>\n",
       "      <td>0</td>\n",
       "      <td>0</td>\n",
       "      <td>0</td>\n",
       "      <td>1</td>\n",
       "      <td>0</td>\n",
       "    </tr>\n",
       "    <tr>\n",
       "      <th>1</th>\n",
       "      <td>0.285714</td>\n",
       "      <td>0.25</td>\n",
       "      <td>0.25</td>\n",
       "      <td>0.000000</td>\n",
       "      <td>0.333333</td>\n",
       "      <td>0.0</td>\n",
       "      <td>0.0</td>\n",
       "      <td>1.0</td>\n",
       "      <td>0.0</td>\n",
       "      <td>0.0</td>\n",
       "      <td>...</td>\n",
       "      <td>1</td>\n",
       "      <td>0</td>\n",
       "      <td>0</td>\n",
       "      <td>1</td>\n",
       "      <td>0</td>\n",
       "      <td>0</td>\n",
       "      <td>0</td>\n",
       "      <td>1</td>\n",
       "      <td>0</td>\n",
       "      <td>0</td>\n",
       "    </tr>\n",
       "    <tr>\n",
       "      <th>2</th>\n",
       "      <td>0.000000</td>\n",
       "      <td>0.25</td>\n",
       "      <td>0.25</td>\n",
       "      <td>0.000000</td>\n",
       "      <td>0.333333</td>\n",
       "      <td>1.0</td>\n",
       "      <td>1.0</td>\n",
       "      <td>0.0</td>\n",
       "      <td>1.0</td>\n",
       "      <td>0.0</td>\n",
       "      <td>...</td>\n",
       "      <td>1</td>\n",
       "      <td>0</td>\n",
       "      <td>0</td>\n",
       "      <td>0</td>\n",
       "      <td>0</td>\n",
       "      <td>1</td>\n",
       "      <td>0</td>\n",
       "      <td>0</td>\n",
       "      <td>1</td>\n",
       "      <td>0</td>\n",
       "    </tr>\n",
       "    <tr>\n",
       "      <th>3</th>\n",
       "      <td>0.000000</td>\n",
       "      <td>1.00</td>\n",
       "      <td>0.50</td>\n",
       "      <td>0.000000</td>\n",
       "      <td>0.666667</td>\n",
       "      <td>0.0</td>\n",
       "      <td>0.0</td>\n",
       "      <td>1.0</td>\n",
       "      <td>1.0</td>\n",
       "      <td>1.0</td>\n",
       "      <td>...</td>\n",
       "      <td>0</td>\n",
       "      <td>1</td>\n",
       "      <td>0</td>\n",
       "      <td>0</td>\n",
       "      <td>1</td>\n",
       "      <td>0</td>\n",
       "      <td>0</td>\n",
       "      <td>0</td>\n",
       "      <td>1</td>\n",
       "      <td>0</td>\n",
       "    </tr>\n",
       "    <tr>\n",
       "      <th>4</th>\n",
       "      <td>0.142857</td>\n",
       "      <td>0.75</td>\n",
       "      <td>0.75</td>\n",
       "      <td>0.000000</td>\n",
       "      <td>0.333333</td>\n",
       "      <td>0.0</td>\n",
       "      <td>0.0</td>\n",
       "      <td>1.0</td>\n",
       "      <td>1.0</td>\n",
       "      <td>0.0</td>\n",
       "      <td>...</td>\n",
       "      <td>1</td>\n",
       "      <td>0</td>\n",
       "      <td>0</td>\n",
       "      <td>0</td>\n",
       "      <td>1</td>\n",
       "      <td>0</td>\n",
       "      <td>0</td>\n",
       "      <td>1</td>\n",
       "      <td>0</td>\n",
       "      <td>0</td>\n",
       "    </tr>\n",
       "  </tbody>\n",
       "</table>\n",
       "<p>5 rows × 49 columns</p>\n",
       "</div>"
      ],
      "text/plain": [
       "        age  Medu  Fedu  traveltime  studytime  failures  schoolsup  famsup  \\\n",
       "0  0.428571  1.00  1.00    0.333333   0.333333       0.0        1.0     0.0   \n",
       "1  0.285714  0.25  0.25    0.000000   0.333333       0.0        0.0     1.0   \n",
       "2  0.000000  0.25  0.25    0.000000   0.333333       1.0        1.0     0.0   \n",
       "3  0.000000  1.00  0.50    0.000000   0.666667       0.0        0.0     1.0   \n",
       "4  0.142857  0.75  0.75    0.000000   0.333333       0.0        0.0     1.0   \n",
       "\n",
       "   paid  activities  ...  Fjob_other  Fjob_services  Fjob_teacher  \\\n",
       "0   0.0         0.0  ...           0              0             1   \n",
       "1   0.0         0.0  ...           1              0             0   \n",
       "2   1.0         0.0  ...           1              0             0   \n",
       "3   1.0         1.0  ...           0              1             0   \n",
       "4   1.0         0.0  ...           1              0             0   \n",
       "\n",
       "   reason_course  reason_home  reason_other  reason_reputation  \\\n",
       "0              1            0             0                  0   \n",
       "1              1            0             0                  0   \n",
       "2              0            0             1                  0   \n",
       "3              0            1             0                  0   \n",
       "4              0            1             0                  0   \n",
       "\n",
       "   guardian_father  guardian_mother  guardian_other  \n",
       "0                0                1               0  \n",
       "1                1                0               0  \n",
       "2                0                1               0  \n",
       "3                0                1               0  \n",
       "4                1                0               0  \n",
       "\n",
       "[5 rows x 49 columns]"
      ]
     },
     "execution_count": 28,
     "metadata": {},
     "output_type": "execute_result"
    }
   ],
   "source": [
    "#Raw Data + Label without categorical feature\n",
    "phase1 = df.copy().drop(labels=df.columns[df.dtypes==object],axis=1) #mae: 3.2583 - mse: 16.7854, early stop: mae: 2.9213 - mse: 12.6809\n",
    "\n",
    "#Ordinal Category Added\n",
    "phase2 = ordinal.copy().drop(labels=ordinal.columns[ordinal.dtypes==object],axis=1) #mae: 3.4332 - mse: 17.3245, early: mae: 2.9872 - mse: 13.4815\n",
    "\n",
    "#Data Normalized\n",
    "phase3 = normal.copy().drop(labels=normal.columns[normal.dtypes==object],axis=1) #mae: 3.8822 - mse: 26.1232, early : mae: 3.0266 - mse: 14.1503\n",
    "\n",
    "#Feature Selection With CorrelationCoefficient > 0.1\n",
    "phase4 = dropped.copy().drop(labels=dropped.columns[dropped.dtypes=='category'],axis=1) #mae: 3.5513 - mse: 21.8263, early: mae: 3.2377 - mse: 15.4592\n",
    "\n",
    "#One-Hot Encoding For Nominal Category\n",
    "phase5 = oh_concat.copy() #mae: 3.7460 - mse: 23.5039, mae: 2.8213 - mse: 12.1035\n",
    "\n",
    "#phase5.5 --> Without Dropping in Phase 4, mae: 3.3277 - mse: 17.1304, es: mae: 2.9851 - mse: 13.8183\n",
    "\n",
    "#Feature Selection With CorrelationCoefficient > 0.05\n",
    "phase6 = oh_minimized.copy() #mae: 4.4667 - mse: 29.3205, early: mae: 2.8257 - mse: 12.2229\n",
    "\n",
    "#Feature Selection With CorrelationCoefficient > 0.1\n",
    "phase7 = oh_dropped.copy() #mae: 3.9745 - mse: 23.1792, early: mae: 2.8674 - mse: 12.6983\n",
    "\n",
    "pil = phase5\n",
    "# pil.dtypes\n",
    "pil.head()"
   ]
  },
  {
   "cell_type": "code",
   "execution_count": 29,
   "metadata": {},
   "outputs": [],
   "source": [
    "x_train = pil.copy().sample(frac=0.8,random_state=0)\n",
    "x_test = pil.drop(x_train.index)"
   ]
  },
  {
   "cell_type": "code",
   "execution_count": 30,
   "metadata": {},
   "outputs": [],
   "source": [
    "y_train = x_train.pop('avgGrade')\n",
    "y_test = x_test.pop('avgGrade')"
   ]
  },
  {
   "cell_type": "code",
   "execution_count": 31,
   "metadata": {},
   "outputs": [],
   "source": [
    "def build_model():\n",
    "    \n",
    "    model = keras.Sequential()\n",
    "    model.add(layers.Dense(100, activation='relu',input_shape=[len(x_train.columns)]))\n",
    "    model.add(layers.Dense(100, activation='relu'))\n",
    "    model.add(layers.Dense(1))\n",
    "    \n",
    "#     optimizer = tf.keras.optimizers.RMSprop(0.001)\n",
    "    optimizer = keras.optimizers.Adam(learning_rate=0.001)\n",
    "    \n",
    "    model.compile(optimizer=optimizer, loss='mse', metrics=['mae','mse'])\n",
    "    \n",
    "    return model\n",
    "\n",
    "\n",
    "a = keras.callbacks.EarlyStopping(\n",
    "    monitor='val_loss', min_delta=0, patience=10, verbose=0, mode='auto'\n",
    ")\n",
    "\n",
    "model = build_model()"
   ]
  },
  {
   "cell_type": "code",
   "execution_count": 32,
   "metadata": {},
   "outputs": [
    {
     "name": "stdout",
     "output_type": "stream",
     "text": [
      "Train on 252 samples, validate on 64 samples\n",
      "Epoch 1/500\n",
      " 32/252 [==>...........................] - ETA: 3s - loss: 131.7852 - mae: 10.8927 - mse: 131.7852\n",
      "Epoch: 0, loss:102.5905,  mae:9.3907,  mse:102.5905,  val_loss:99.1755,  val_mae:9.4202,  val_mse:99.1755,  \n",
      "252/252 [==============================] - 1s 2ms/sample - loss: 102.5905 - mae: 9.3907 - mse: 102.5905 - val_loss: 99.1755 - val_mae: 9.4202 - val_mse: 99.1755\n",
      "Epoch 2/500\n",
      "252/252 [==============================] - 0s 148us/sample - loss: 68.9950 - mae: 7.4676 - mse: 68.9950 - val_loss: 60.1650 - val_mae: 7.0530 - val_mse: 60.1650\n",
      "Epoch 3/500\n",
      "252/252 [==============================] - 0s 163us/sample - loss: 35.7423 - mae: 5.0151 - mse: 35.7423 - val_loss: 23.3648 - val_mae: 4.0795 - val_mse: 23.3648\n",
      "Epoch 4/500\n",
      "252/252 [==============================] - 0s 143us/sample - loss: 15.5794 - mae: 3.1970 - mse: 15.5794 - val_loss: 12.1484 - val_mae: 2.7354 - val_mse: 12.1484\n",
      "Epoch 5/500\n",
      "252/252 [==============================] - 0s 139us/sample - loss: 16.7799 - mae: 3.3424 - mse: 16.7799 - val_loss: 12.2341 - val_mae: 2.7190 - val_mse: 12.2341\n",
      "Epoch 6/500\n",
      "252/252 [==============================] - 0s 159us/sample - loss: 14.3608 - mae: 3.0632 - mse: 14.3608 - val_loss: 13.1388 - val_mae: 3.0414 - val_mse: 13.1388\n",
      "Epoch 7/500\n",
      "252/252 [==============================] - 0s 139us/sample - loss: 13.4952 - mae: 2.9374 - mse: 13.4952 - val_loss: 14.5711 - val_mae: 3.2084 - val_mse: 14.5711\n",
      "Epoch 8/500\n",
      "252/252 [==============================] - 0s 139us/sample - loss: 13.0871 - mae: 2.8948 - mse: 13.0871 - val_loss: 12.8977 - val_mae: 2.9999 - val_mse: 12.8977\n",
      "Epoch 9/500\n",
      "252/252 [==============================] - 0s 171us/sample - loss: 12.4824 - mae: 2.8223 - mse: 12.4824 - val_loss: 11.9152 - val_mae: 2.8388 - val_mse: 11.9152\n",
      "Epoch 10/500\n",
      "252/252 [==============================] - 0s 143us/sample - loss: 12.3469 - mae: 2.8165 - mse: 12.3469 - val_loss: 11.9883 - val_mae: 2.8559 - val_mse: 11.9883\n",
      "Epoch 11/500\n",
      "252/252 [==============================] - 0s 147us/sample - loss: 11.9838 - mae: 2.7674 - mse: 11.9838 - val_loss: 12.0808 - val_mae: 2.8677 - val_mse: 12.0808\n",
      "Epoch 12/500\n",
      "252/252 [==============================] - 0s 135us/sample - loss: 11.7020 - mae: 2.7312 - mse: 11.7020 - val_loss: 12.1372 - val_mae: 2.8736 - val_mse: 12.1372\n",
      "Epoch 13/500\n",
      "252/252 [==============================] - 0s 171us/sample - loss: 11.4032 - mae: 2.6896 - mse: 11.4032 - val_loss: 11.9152 - val_mae: 2.8319 - val_mse: 11.9152\n",
      "Epoch 14/500\n",
      "252/252 [==============================] - 0s 182us/sample - loss: 11.1822 - mae: 2.6608 - mse: 11.1822 - val_loss: 11.9083 - val_mae: 2.8360 - val_mse: 11.9083\n",
      "Epoch 15/500\n",
      "252/252 [==============================] - 0s 178us/sample - loss: 10.9327 - mae: 2.6308 - mse: 10.9327 - val_loss: 11.5259 - val_mae: 2.7675 - val_mse: 11.5259\n",
      "Epoch 16/500\n",
      "252/252 [==============================] - 0s 147us/sample - loss: 10.6598 - mae: 2.5952 - mse: 10.6598 - val_loss: 11.5284 - val_mae: 2.7787 - val_mse: 11.5284\n",
      "Epoch 17/500\n",
      "252/252 [==============================] - 0s 194us/sample - loss: 10.4506 - mae: 2.5689 - mse: 10.4506 - val_loss: 11.5317 - val_mae: 2.7945 - val_mse: 11.5317\n",
      "Epoch 18/500\n",
      "252/252 [==============================] - 0s 202us/sample - loss: 10.2737 - mae: 2.5408 - mse: 10.2737 - val_loss: 11.6366 - val_mae: 2.8340 - val_mse: 11.6366\n",
      "Epoch 19/500\n",
      "252/252 [==============================] - 0s 190us/sample - loss: 9.9806 - mae: 2.5065 - mse: 9.9806 - val_loss: 11.1527 - val_mae: 2.7483 - val_mse: 11.1527\n",
      "Epoch 20/500\n",
      "252/252 [==============================] - 0s 186us/sample - loss: 9.8886 - mae: 2.5003 - mse: 9.8886 - val_loss: 10.8517 - val_mae: 2.6890 - val_mse: 10.8517\n",
      "Epoch 21/500\n",
      "252/252 [==============================] - 0s 190us/sample - loss: 9.5942 - mae: 2.4590 - mse: 9.5942 - val_loss: 11.3237 - val_mae: 2.8111 - val_mse: 11.3237\n",
      "Epoch 22/500\n",
      "252/252 [==============================] - 0s 178us/sample - loss: 9.5025 - mae: 2.4370 - mse: 9.5025 - val_loss: 11.1629 - val_mae: 2.7960 - val_mse: 11.1629\n",
      "Epoch 23/500\n",
      "252/252 [==============================] - 0s 206us/sample - loss: 9.2261 - mae: 2.4118 - mse: 9.2261 - val_loss: 10.5604 - val_mae: 2.6729 - val_mse: 10.5604\n",
      "Epoch 24/500\n",
      "252/252 [==============================] - 0s 178us/sample - loss: 9.1089 - mae: 2.3883 - mse: 9.1089 - val_loss: 10.9679 - val_mae: 2.7767 - val_mse: 10.9679\n",
      "Epoch 25/500\n",
      "252/252 [==============================] - 0s 159us/sample - loss: 8.8724 - mae: 2.3539 - mse: 8.8724 - val_loss: 10.7263 - val_mae: 2.7379 - val_mse: 10.7263\n",
      "Epoch 26/500\n",
      "252/252 [==============================] - 0s 171us/sample - loss: 8.8352 - mae: 2.3536 - mse: 8.8352 - val_loss: 10.5505 - val_mae: 2.7106 - val_mse: 10.5505\n",
      "Epoch 27/500\n",
      "252/252 [==============================] - 0s 159us/sample - loss: 8.5646 - mae: 2.3154 - mse: 8.5646 - val_loss: 10.6418 - val_mae: 2.7370 - val_mse: 10.6418\n",
      "Epoch 28/500\n",
      "252/252 [==============================] - 0s 151us/sample - loss: 8.3598 - mae: 2.2812 - mse: 8.3598 - val_loss: 10.2916 - val_mae: 2.6788 - val_mse: 10.2916\n",
      "Epoch 29/500\n",
      "252/252 [==============================] - 0s 143us/sample - loss: 8.2028 - mae: 2.2621 - mse: 8.2028 - val_loss: 10.1067 - val_mae: 2.6553 - val_mse: 10.1067\n",
      "Epoch 30/500\n",
      "252/252 [==============================] - 0s 178us/sample - loss: 8.0883 - mae: 2.2411 - mse: 8.0883 - val_loss: 10.4662 - val_mae: 2.7265 - val_mse: 10.4662\n",
      "Epoch 31/500\n",
      "252/252 [==============================] - 0s 139us/sample - loss: 7.8924 - mae: 2.2105 - mse: 7.8924 - val_loss: 9.9715 - val_mae: 2.6448 - val_mse: 9.9715\n",
      "Epoch 32/500\n",
      "252/252 [==============================] - 0s 171us/sample - loss: 7.7437 - mae: 2.1896 - mse: 7.7437 - val_loss: 10.3203 - val_mae: 2.7126 - val_mse: 10.3203\n",
      "Epoch 33/500\n",
      "252/252 [==============================] - 0s 163us/sample - loss: 7.6496 - mae: 2.1799 - mse: 7.6496 - val_loss: 9.8242 - val_mae: 2.6348 - val_mse: 9.8242\n",
      "Epoch 34/500\n",
      "252/252 [==============================] - 0s 186us/sample - loss: 7.4114 - mae: 2.1447 - mse: 7.4114 - val_loss: 10.1825 - val_mae: 2.6958 - val_mse: 10.1825\n",
      "Epoch 35/500\n",
      "252/252 [==============================] - 0s 190us/sample - loss: 7.2440 - mae: 2.1118 - mse: 7.2440 - val_loss: 9.9736 - val_mae: 2.6678 - val_mse: 9.9736\n",
      "Epoch 36/500\n",
      "252/252 [==============================] - 0s 163us/sample - loss: 7.0716 - mae: 2.0895 - mse: 7.0716 - val_loss: 9.9218 - val_mae: 2.6618 - val_mse: 9.9218\n",
      "Epoch 37/500\n",
      "252/252 [==============================] - 0s 139us/sample - loss: 6.9647 - mae: 2.0767 - mse: 6.9647 - val_loss: 9.7703 - val_mae: 2.6368 - val_mse: 9.7703\n",
      "Epoch 38/500\n",
      "252/252 [==============================] - 0s 131us/sample - loss: 6.8314 - mae: 2.0463 - mse: 6.8314 - val_loss: 9.8697 - val_mae: 2.6554 - val_mse: 9.8697\n",
      "Epoch 39/500\n",
      "252/252 [==============================] - 0s 147us/sample - loss: 6.5984 - mae: 2.0144 - mse: 6.5984 - val_loss: 9.6966 - val_mae: 2.6357 - val_mse: 9.6966\n",
      "Epoch 40/500\n",
      "252/252 [==============================] - 0s 135us/sample - loss: 6.4547 - mae: 1.9932 - mse: 6.4547 - val_loss: 9.4722 - val_mae: 2.6058 - val_mse: 9.4722\n",
      "Epoch 41/500\n",
      "252/252 [==============================] - 0s 123us/sample - loss: 6.2796 - mae: 1.9672 - mse: 6.2796 - val_loss: 9.7264 - val_mae: 2.6439 - val_mse: 9.7264\n",
      "Epoch 42/500\n",
      "252/252 [==============================] - 0s 127us/sample - loss: 6.1437 - mae: 1.9311 - mse: 6.1437 - val_loss: 9.5780 - val_mae: 2.6203 - val_mse: 9.5780\n",
      "Epoch 43/500\n",
      "252/252 [==============================] - 0s 127us/sample - loss: 6.0092 - mae: 1.9170 - mse: 6.0092 - val_loss: 9.5028 - val_mae: 2.6071 - val_mse: 9.5028\n",
      "Epoch 44/500\n",
      "252/252 [==============================] - 0s 127us/sample - loss: 5.8846 - mae: 1.8940 - mse: 5.8846 - val_loss: 9.5872 - val_mae: 2.6222 - val_mse: 9.5872\n",
      "Epoch 45/500\n",
      "252/252 [==============================] - 0s 123us/sample - loss: 5.5878 - mae: 1.8421 - mse: 5.5878 - val_loss: 9.5645 - val_mae: 2.6103 - val_mse: 9.5645\n",
      "Epoch 46/500\n",
      "252/252 [==============================] - 0s 135us/sample - loss: 5.3964 - mae: 1.8039 - mse: 5.3964 - val_loss: 9.6046 - val_mae: 2.6124 - val_mse: 9.6046\n",
      "Epoch 47/500\n",
      "252/252 [==============================] - 0s 139us/sample - loss: 5.3222 - mae: 1.7912 - mse: 5.3222 - val_loss: 9.6682 - val_mae: 2.6155 - val_mse: 9.6682\n",
      "Epoch 48/500\n",
      "252/252 [==============================] - 0s 131us/sample - loss: 5.1316 - mae: 1.7522 - mse: 5.1316 - val_loss: 9.6689 - val_mae: 2.6091 - val_mse: 9.6689\n",
      "Epoch 49/500\n",
      "252/252 [==============================] - 0s 111us/sample - loss: 5.1285 - mae: 1.7618 - mse: 5.1285 - val_loss: 9.3709 - val_mae: 2.5656 - val_mse: 9.3709\n",
      "Epoch 50/500\n",
      "252/252 [==============================] - 0s 123us/sample - loss: 4.8228 - mae: 1.6921 - mse: 4.8228 - val_loss: 9.7656 - val_mae: 2.6181 - val_mse: 9.7656\n",
      "Epoch 51/500\n",
      "252/252 [==============================] - 0s 143us/sample - loss: 4.6952 - mae: 1.6716 - mse: 4.6952 - val_loss: 9.6214 - val_mae: 2.5926 - val_mse: 9.6214\n",
      "Epoch 52/500\n",
      "252/252 [==============================] - 0s 131us/sample - loss: 4.4276 - mae: 1.6128 - mse: 4.4276 - val_loss: 9.8214 - val_mae: 2.6153 - val_mse: 9.8214\n",
      "Epoch 53/500\n",
      "252/252 [==============================] - 0s 123us/sample - loss: 4.4687 - mae: 1.6119 - mse: 4.4687 - val_loss: 9.5321 - val_mae: 2.5791 - val_mse: 9.5321\n",
      "Epoch 54/500\n",
      "252/252 [==============================] - 0s 127us/sample - loss: 4.2847 - mae: 1.6009 - mse: 4.2847 - val_loss: 9.6772 - val_mae: 2.5956 - val_mse: 9.6772\n",
      "Epoch 55/500\n",
      "252/252 [==============================] - 0s 127us/sample - loss: 4.0750 - mae: 1.5377 - mse: 4.0750 - val_loss: 9.7804 - val_mae: 2.5977 - val_mse: 9.7804\n",
      "Epoch 56/500\n",
      "252/252 [==============================] - 0s 119us/sample - loss: 3.7738 - mae: 1.4719 - mse: 3.7738 - val_loss: 9.5685 - val_mae: 2.5684 - val_mse: 9.5685\n",
      "Epoch 57/500\n",
      "252/252 [==============================] - 0s 127us/sample - loss: 3.6458 - mae: 1.4480 - mse: 3.6458 - val_loss: 9.8789 - val_mae: 2.5957 - val_mse: 9.8789\n",
      "Epoch 58/500\n",
      "252/252 [==============================] - 0s 131us/sample - loss: 3.4813 - mae: 1.4147 - mse: 3.4813 - val_loss: 9.7809 - val_mae: 2.6105 - val_mse: 9.7809\n",
      "Epoch 59/500\n",
      "252/252 [==============================] - 0s 135us/sample - loss: 3.2974 - mae: 1.3672 - mse: 3.2974 - val_loss: 9.9497 - val_mae: 2.6044 - val_mse: 9.9497\n"
     ]
    },
    {
     "data": {
      "text/plain": [
       "<tensorflow.python.keras.callbacks.History at 0x1c56e426208>"
      ]
     },
     "execution_count": 32,
     "metadata": {},
     "output_type": "execute_result"
    }
   ],
   "source": [
    "model.fit(x_train, y_train, epochs=500, verbose=1, validation_split=0.2 ,callbacks=[tfdocs.modeling.EpochDots(),a])"
   ]
  },
  {
   "cell_type": "code",
   "execution_count": 33,
   "metadata": {},
   "outputs": [
    {
     "name": "stdout",
     "output_type": "stream",
     "text": [
      "79/79 - 0s - loss: 13.8183 - mae: 2.9851 - mse: 13.8183\n"
     ]
    }
   ],
   "source": [
    "error = model.evaluate(x_test, y_test, verbose=2)"
   ]
  },
  {
   "cell_type": "code",
   "execution_count": 26,
   "metadata": {},
   "outputs": [
    {
     "data": {
      "image/png": "[encoded data removed]",
      "text/plain": [
       "<Figure size 432x288 with 1 Axes>"
      ]
     },
     "metadata": {
      "needs_background": "light"
     },
     "output_type": "display_data"
    }
   ],
   "source": [
    "prediction = model.predict(x_test).flatten()\n",
    "\n",
    "a = plt.axes(aspect='equal')\n",
    "plt.scatter(y_test, prediction)\n",
    "plt.xlabel('True Values [G3]')\n",
    "plt.ylabel('Predictions [G3]')\n",
    "lims = [-2, 22]\n",
    "plt.xlim(lims)\n",
    "plt.ylim(lims)\n",
    "_ = plt.plot(lims, lims)"
   ]
  },
  {
   "cell_type": "code",
   "execution_count": 699,
   "metadata": {},
   "outputs": [
    {
     "data": {
      "image/png": "[encoded data removed]",
      "text/plain": [
       "<Figure size 432x288 with 1 Axes>"
      ]
     },
     "metadata": {
      "needs_background": "light"
     },
     "output_type": "display_data"
    }
   ],
   "source": [
    "error = prediction - y_test\n",
    "plt.hist(error, bins = 25)\n",
    "plt.xlabel(\"Prediction Error [MPG]\")\n",
    "_ = plt.ylabel(\"Count\")"
   ]
  },
  {
   "cell_type": "code",
   "execution_count": null,
   "metadata": {},
   "outputs": [],
   "source": []
  }
 ],
 "metadata": {
  "kernelspec": {
   "display_name": "Python 3",
   "language": "python",
   "name": "python3"
  },
  "language_info": {
   "codemirror_mode": {
    "name": "ipython",
    "version": 3
   },
   "file_extension": ".py",
   "mimetype": "text/x-python",
   "name": "python",
   "nbconvert_exporter": "python",
   "pygments_lexer": "ipython3",
   "version": "3.7.6"
  }
 },
 "nbformat": 4,
 "nbformat_minor": 4
}
